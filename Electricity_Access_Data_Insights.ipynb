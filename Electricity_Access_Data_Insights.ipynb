{
 "cells": [
  {
   "cell_type": "markdown",
   "id": "95af7563-7995-4a41-93d3-af07f7d9becc",
   "metadata": {},
   "source": [
    "#  World Bank Data Cleaning & Preparation for Tableau Dashboard\n",
    "This notebook prepares a World Bank dataset for interactive visualizations in Tableau. We’ll extract, clean, and export the data for analysis of electricity access and financial inclusion across countries and time."
   ]
  },
  {
   "cell_type": "markdown",
   "id": "3a4e0e44-1365-49e2-94c8-77cafb4217df",
   "metadata": {},
   "source": [
    "##  Step 0: Extract ZIP File\n",
    "\n",
    "We extract the World Bank dataset archive so we can access the main CSV file for cleaning."
   ]
  },
  {
   "cell_type": "code",
   "execution_count": 5,
   "id": "789499a9-9edc-474d-aa6e-f268410cac9f",
   "metadata": {},
   "outputs": [
    {
     "name": "stdout",
     "output_type": "stream",
     "text": [
      "Files extracted to: world_bank_data\n"
     ]
    }
   ],
   "source": [
    "import zipfile\n",
    "import os\n",
    "\n",
    "# ZIP file name\n",
    "zip_path = 'P_Data_Extract_From_World_Development_Indicators.zip'\n",
    "\n",
    "# Extraction directory\n",
    "extract_dir = 'world_bank_data'\n",
    "\n",
    "# Extract ZIP\n",
    "with zipfile.ZipFile(zip_path, 'r') as zip_ref:\n",
    "    zip_ref.extractall(extract_dir)\n",
    "\n",
    "print(\"Files extracted to:\", extract_dir)\n"
   ]
  },
  {
   "cell_type": "markdown",
   "id": "4fe0b765-9c7f-445d-852c-0e7d00a0e171",
   "metadata": {},
   "source": [
    "#  Step 1: Inspect Extracted Files\n",
    "files = os.listdir(extract_dir)\n",
    "print(\" Files in directory:\", files)"
   ]
  },
  {
   "cell_type": "code",
   "execution_count": 7,
   "id": "c65ae96a-23a4-4663-abda-0b39e984931f",
   "metadata": {},
   "outputs": [
    {
     "name": "stdout",
     "output_type": "stream",
     "text": [
      "Files in directory: ['ed35928c-f2c5-48a4-b96d-b6e37064a0db_Data.csv', 'ed35928c-f2c5-48a4-b96d-b6e37064a0db_Series - Metadata.csv']\n"
     ]
    }
   ],
   "source": [
    "files = os.listdir(extract_dir)\n",
    "print(\"Files in directory:\", files)"
   ]
  },
  {
   "cell_type": "markdown",
   "id": "a4c6e9b0-1c99-4d57-81df-a07dd22a2487",
   "metadata": {},
   "source": [
    "#  Step 2: Load the Dataset\n",
    "import pandas as pd"
   ]
  },
  {
   "cell_type": "code",
   "execution_count": 8,
   "id": "4cc5dcda-d41b-4724-b674-f6ad10d697bb",
   "metadata": {},
   "outputs": [
    {
     "name": "stdout",
     "output_type": "stream",
     "text": [
      "Data loaded. Shape: (1601, 11)\n"
     ]
    }
   ],
   "source": [
    "#  Imports\n",
    "import pandas as pd\n",
    "import os\n",
    "\n",
    "#  Config – Define data file path\n",
    "DATA_DIR = \"world_bank_data\"\n",
    "DATA_FILE = \"ed35928c-f2c5-48a4-b96d-b6e37064a0db_Data.csv\"\n",
    "data_path = os.path.join(DATA_DIR, DATA_FILE)\n",
    "\n",
    "#  Load dataset\n",
    "df = pd.read_csv(data_path)\n",
    "\n",
    "#  Confirm successful load\n",
    "print(\"Data loaded. Shape:\", df.shape)\n"
   ]
  },
  {
   "cell_type": "markdown",
   "id": "2fa4c8c9-35ad-45f4-aa5f-cb21c345573c",
   "metadata": {},
   "source": [
    "#  Step 3: Clean Column Names"
   ]
  },
  {
   "cell_type": "code",
   "execution_count": 9,
   "id": "8999f139-36d1-42da-a9ab-8ffb2869b910",
   "metadata": {},
   "outputs": [
    {
     "data": {
      "text/plain": [
       "['country_name',\n",
       " 'country_code',\n",
       " 'series_name',\n",
       " 'series_code',\n",
       " '1990_[yr1990]',\n",
       " '2006_[yr2006]',\n",
       " '2022_[yr2022]',\n",
       " '1975_[yr1975]',\n",
       " '1991_[yr1991]',\n",
       " '2007_[yr2007]',\n",
       " '2023_[yr2023]']"
      ]
     },
     "execution_count": 9,
     "metadata": {},
     "output_type": "execute_result"
    }
   ],
   "source": [
    "df.columns = (\n",
    "    df.columns\n",
    "    .str.strip()\n",
    "    .str.lower()\n",
    "    .str.replace(' ', '_')\n",
    "    .str.replace('(', '', regex=False)\n",
    "    .str.replace(')', '', regex=False)\n",
    ")\n",
    "df.columns.tolist()"
   ]
  },
  {
   "cell_type": "markdown",
   "id": "252dee58-6e53-48cf-bf5b-f5f7b1cfca49",
   "metadata": {},
   "source": [
    "##  Step 4: Explore and Clean Data  \n",
    "We check the shape of the dataset, look for missing values, inspect data types, and check for duplicates."
   ]
  },
  {
   "cell_type": "code",
   "execution_count": 26,
   "id": "da7c1ec5-da60-4109-becd-bf2478f82012",
   "metadata": {},
   "outputs": [
    {
     "name": "stdout",
     "output_type": "stream",
     "text": [
      "Shape: (1601, 11)\n",
      "\n",
      "Missing values per column:\n",
      " country_name     3\n",
      "country_code     5\n",
      "series_name      5\n",
      "series_code      5\n",
      "1990_[yr1990]    5\n",
      "2006_[yr2006]    5\n",
      "2022_[yr2022]    5\n",
      "1975_[yr1975]    5\n",
      "1991_[yr1991]    5\n",
      "2007_[yr2007]    5\n",
      "2023_[yr2023]    5\n",
      "dtype: int64\n",
      "\n",
      "Data types:\n",
      " country_name     object\n",
      "country_code     object\n",
      "series_name      object\n",
      "series_code      object\n",
      "1990_[yr1990]    object\n",
      "2006_[yr2006]    object\n",
      "2022_[yr2022]    object\n",
      "1975_[yr1975]    object\n",
      "1991_[yr1991]    object\n",
      "2007_[yr2007]    object\n",
      "2023_[yr2023]    object\n",
      "dtype: object\n",
      "\n",
      "Duplicate rows: 2\n"
     ]
    }
   ],
   "source": [
    "# Check dataset shape\n",
    "print(\"Shape:\", df.shape)\n",
    "\n",
    "#  Missing values\n",
    "print(\"\\nMissing values per column:\\n\", df.isnull().sum())\n",
    "\n",
    "#  Data types\n",
    "print(\"\\nData types:\\n\", df.dtypes)\n",
    "\n",
    "#  Check for duplicates\n",
    "print(\"\\nDuplicate rows:\", df.duplicated().sum())"
   ]
  },
  {
   "cell_type": "markdown",
   "id": "6fb1c8b3-f1a8-46b7-b260-a11f71bb4acc",
   "metadata": {},
   "source": [
    "##  Step 5: Remove Rows with Missing Key Info  \n",
    "We drop rows that are missing the country or series name, since those are critical for analysis and visualization."
   ]
  },
  {
   "cell_type": "code",
   "execution_count": 10,
   "id": "de67b160-139f-42ab-bd16-baae1dee5a63",
   "metadata": {},
   "outputs": [
    {
     "name": "stdout",
     "output_type": "stream",
     "text": [
      " Cleaned rows. New shape: (1596, 11)\n"
     ]
    }
   ],
   "source": [
    "df_clean = df.dropna(subset=['country_name', 'series_name'])\n",
    "print(\" Cleaned rows. New shape:\", df_clean.shape)"
   ]
  },
  {
   "cell_type": "markdown",
   "id": "6fe40e83-e174-41f5-ae0f-ef1d9429e2b8",
   "metadata": {},
   "source": [
    "##  Step 6: Reshape Data to Long Format  \n",
    "We use `pd.melt()` to turn multiple year columns into one `year` column with a matching `value` column."
   ]
  },
  {
   "cell_type": "code",
   "execution_count": 11,
   "id": "3b7315e1-aa12-4969-9240-9cec0fb4cae9",
   "metadata": {},
   "outputs": [
    {
     "data": {
      "text/html": [
       "<div>\n",
       "<style scoped>\n",
       "    .dataframe tbody tr th:only-of-type {\n",
       "        vertical-align: middle;\n",
       "    }\n",
       "\n",
       "    .dataframe tbody tr th {\n",
       "        vertical-align: top;\n",
       "    }\n",
       "\n",
       "    .dataframe thead th {\n",
       "        text-align: right;\n",
       "    }\n",
       "</style>\n",
       "<table border=\"1\" class=\"dataframe\">\n",
       "  <thead>\n",
       "    <tr style=\"text-align: right;\">\n",
       "      <th></th>\n",
       "      <th>country_name</th>\n",
       "      <th>series_name</th>\n",
       "      <th>series_code</th>\n",
       "      <th>year</th>\n",
       "      <th>value</th>\n",
       "    </tr>\n",
       "  </thead>\n",
       "  <tbody>\n",
       "    <tr>\n",
       "      <th>0</th>\n",
       "      <td>Afghanistan</td>\n",
       "      <td>Access to clean fuels and technologies for coo...</td>\n",
       "      <td>EG.CFT.ACCS.ZS</td>\n",
       "      <td>country_code</td>\n",
       "      <td>AFG</td>\n",
       "    </tr>\n",
       "    <tr>\n",
       "      <th>1</th>\n",
       "      <td>Afghanistan</td>\n",
       "      <td>Access to clean fuels and technologies for coo...</td>\n",
       "      <td>EG.CFT.ACCS.UR.ZS</td>\n",
       "      <td>country_code</td>\n",
       "      <td>AFG</td>\n",
       "    </tr>\n",
       "    <tr>\n",
       "      <th>2</th>\n",
       "      <td>Afghanistan</td>\n",
       "      <td>Access to electricity, rural (% of rural popul...</td>\n",
       "      <td>EG.ELC.ACCS.RU.ZS</td>\n",
       "      <td>country_code</td>\n",
       "      <td>AFG</td>\n",
       "    </tr>\n",
       "    <tr>\n",
       "      <th>3</th>\n",
       "      <td>Afghanistan</td>\n",
       "      <td>Account ownership at a financial institution o...</td>\n",
       "      <td>FX.OWN.TOTL.ZS</td>\n",
       "      <td>country_code</td>\n",
       "      <td>AFG</td>\n",
       "    </tr>\n",
       "    <tr>\n",
       "      <th>4</th>\n",
       "      <td>Afghanistan</td>\n",
       "      <td>Account ownership at a financial institution o...</td>\n",
       "      <td>FX.OWN.TOTL.MA.ZS</td>\n",
       "      <td>country_code</td>\n",
       "      <td>AFG</td>\n",
       "    </tr>\n",
       "  </tbody>\n",
       "</table>\n",
       "</div>"
      ],
      "text/plain": [
       "  country_name                                        series_name  \\\n",
       "0  Afghanistan  Access to clean fuels and technologies for coo...   \n",
       "1  Afghanistan  Access to clean fuels and technologies for coo...   \n",
       "2  Afghanistan  Access to electricity, rural (% of rural popul...   \n",
       "3  Afghanistan  Account ownership at a financial institution o...   \n",
       "4  Afghanistan  Account ownership at a financial institution o...   \n",
       "\n",
       "         series_code          year value  \n",
       "0     EG.CFT.ACCS.ZS  country_code   AFG  \n",
       "1  EG.CFT.ACCS.UR.ZS  country_code   AFG  \n",
       "2  EG.ELC.ACCS.RU.ZS  country_code   AFG  \n",
       "3     FX.OWN.TOTL.ZS  country_code   AFG  \n",
       "4  FX.OWN.TOTL.MA.ZS  country_code   AFG  "
      ]
     },
     "execution_count": 11,
     "metadata": {},
     "output_type": "execute_result"
    }
   ],
   "source": [
    "df_long = pd.melt(\n",
    "    df_clean,\n",
    "    id_vars=['country_name', 'series_name', 'series_code'],\n",
    "    var_name='year',\n",
    "    value_name='value'\n",
    ")\n",
    "\n",
    "df_long.head()"
   ]
  },
  {
   "cell_type": "markdown",
   "id": "eb8afb7a-4775-4580-932e-954b68cd969d",
   "metadata": {},
   "source": [
    "##  Step 7: Clean and Convert Data Types  \n",
    "We extract the year from column headers, convert it to datetime format, and convert the value column to numeric for analysis."
   ]
  },
  {
   "cell_type": "code",
   "execution_count": 12,
   "id": "e2658242-7325-41b1-85fc-4adebf18830d",
   "metadata": {},
   "outputs": [
    {
     "data": {
      "text/plain": [
       "country_name            object\n",
       "series_name             object\n",
       "series_code             object\n",
       "year            datetime64[ns]\n",
       "value                  float64\n",
       "dtype: object"
      ]
     },
     "execution_count": 12,
     "metadata": {},
     "output_type": "execute_result"
    }
   ],
   "source": [
    "# Extract numeric year from strings like '2000 [YR2000]'\n",
    "df_long['year'] = df_long['year'].str.extract('(\\\\d{4})')\n",
    "\n",
    "# Convert to datetime format (year only)\n",
    "df_long['year'] = pd.to_datetime(df_long['year'], format='%Y', errors='coerce')\n",
    "\n",
    "# Convert values to numeric\n",
    "df_long['value'] = pd.to_numeric(df_long['value'], errors='coerce')\n",
    "\n",
    "df_long.dtypes"
   ]
  },
  {
   "cell_type": "markdown",
   "id": "e4faee0d-4ae5-4cdb-b285-b4e9097a7a4b",
   "metadata": {},
   "source": [
    "##  Step 8: Remove Missing Values from Final Dataset  \n",
    "We remove any rows where `year` or `value` is missing, so our charts and dashboards don’t break or mislead."
   ]
  },
  {
   "cell_type": "code",
   "execution_count": 13,
   "id": "5facbdaa-cc93-46e3-b1cb-64ed6761437b",
   "metadata": {},
   "outputs": [
    {
     "name": "stdout",
     "output_type": "stream",
     "text": [
      " Final dataset shape: (2436, 5)\n"
     ]
    },
    {
     "data": {
      "text/html": [
       "<div>\n",
       "<style scoped>\n",
       "    .dataframe tbody tr th:only-of-type {\n",
       "        vertical-align: middle;\n",
       "    }\n",
       "\n",
       "    .dataframe tbody tr th {\n",
       "        vertical-align: top;\n",
       "    }\n",
       "\n",
       "    .dataframe thead th {\n",
       "        text-align: right;\n",
       "    }\n",
       "</style>\n",
       "<table border=\"1\" class=\"dataframe\">\n",
       "  <thead>\n",
       "    <tr style=\"text-align: right;\">\n",
       "      <th></th>\n",
       "      <th>country_name</th>\n",
       "      <th>series_name</th>\n",
       "      <th>series_code</th>\n",
       "      <th>year</th>\n",
       "      <th>value</th>\n",
       "    </tr>\n",
       "  </thead>\n",
       "  <tbody>\n",
       "    <tr>\n",
       "      <th>1604</th>\n",
       "      <td>Albania</td>\n",
       "      <td>Access to electricity, rural (% of rural popul...</td>\n",
       "      <td>EG.ELC.ACCS.RU.ZS</td>\n",
       "      <td>1990-01-01</td>\n",
       "      <td>100.000000</td>\n",
       "    </tr>\n",
       "    <tr>\n",
       "      <th>1622</th>\n",
       "      <td>Andorra</td>\n",
       "      <td>Access to electricity, rural (% of rural popul...</td>\n",
       "      <td>EG.ELC.ACCS.RU.ZS</td>\n",
       "      <td>1990-01-01</td>\n",
       "      <td>100.000000</td>\n",
       "    </tr>\n",
       "    <tr>\n",
       "      <th>1634</th>\n",
       "      <td>Antigua and Barbuda</td>\n",
       "      <td>Access to electricity, rural (% of rural popul...</td>\n",
       "      <td>EG.ELC.ACCS.RU.ZS</td>\n",
       "      <td>1990-01-01</td>\n",
       "      <td>93.438635</td>\n",
       "    </tr>\n",
       "    <tr>\n",
       "      <th>1640</th>\n",
       "      <td>Argentina</td>\n",
       "      <td>Access to electricity, rural (% of rural popul...</td>\n",
       "      <td>EG.ELC.ACCS.RU.ZS</td>\n",
       "      <td>1990-01-01</td>\n",
       "      <td>78.894588</td>\n",
       "    </tr>\n",
       "    <tr>\n",
       "      <th>1652</th>\n",
       "      <td>Aruba</td>\n",
       "      <td>Access to electricity, rural (% of rural popul...</td>\n",
       "      <td>EG.ELC.ACCS.RU.ZS</td>\n",
       "      <td>1990-01-01</td>\n",
       "      <td>100.000000</td>\n",
       "    </tr>\n",
       "  </tbody>\n",
       "</table>\n",
       "</div>"
      ],
      "text/plain": [
       "             country_name                                        series_name  \\\n",
       "1604              Albania  Access to electricity, rural (% of rural popul...   \n",
       "1622              Andorra  Access to electricity, rural (% of rural popul...   \n",
       "1634  Antigua and Barbuda  Access to electricity, rural (% of rural popul...   \n",
       "1640            Argentina  Access to electricity, rural (% of rural popul...   \n",
       "1652                Aruba  Access to electricity, rural (% of rural popul...   \n",
       "\n",
       "            series_code       year       value  \n",
       "1604  EG.ELC.ACCS.RU.ZS 1990-01-01  100.000000  \n",
       "1622  EG.ELC.ACCS.RU.ZS 1990-01-01  100.000000  \n",
       "1634  EG.ELC.ACCS.RU.ZS 1990-01-01   93.438635  \n",
       "1640  EG.ELC.ACCS.RU.ZS 1990-01-01   78.894588  \n",
       "1652  EG.ELC.ACCS.RU.ZS 1990-01-01  100.000000  "
      ]
     },
     "execution_count": 13,
     "metadata": {},
     "output_type": "execute_result"
    }
   ],
   "source": [
    "df_final = df_long.dropna(subset=['year', 'value'])\n",
    "print(\" Final dataset shape:\", df_final.shape)\n",
    "df_final.head()"
   ]
  },
  {
   "cell_type": "markdown",
   "id": "1eb501e8-40c0-4fe7-87bf-9ddaa0e6eafa",
   "metadata": {},
   "source": [
    "##  Step 9: Export Cleaned Dataset  \n",
    "We save the final cleaned dataset to a CSV file that can be imported into Tableau or Power BI for visualization."
   ]
  },
  {
   "cell_type": "code",
   "execution_count": 14,
   "id": "8aebacae-8a46-44f8-987e-6720f7fcf85d",
   "metadata": {},
   "outputs": [
    {
     "name": "stdout",
     "output_type": "stream",
     "text": [
      "Cleaned data exported as 'world_bank_cleaned.csv'\n"
     ]
    }
   ],
   "source": [
    "df_final.to_csv(\"world_bank_cleaned.csv\", index=False)\n",
    "print(\"Cleaned data exported as 'world_bank_cleaned.csv'\")"
   ]
  },
  {
   "cell_type": "markdown",
   "id": "0dd4b60c-f1bf-44e4-85fd-4ce981fc8678",
   "metadata": {},
   "source": [
    "## 🧾 Step 10: Final Summary  \n",
    "We completed a full data cleaning process and exported a structured dataset for development insights.  \n",
    "This includes electricity access, financial inclusion, and other indicators across countries from 2006 to 2022.  \n",
    "The cleaned dataset is now ready for analysis in Tableau or Power BI."
   ]
  },
  {
   "cell_type": "code",
   "execution_count": 38,
   "id": "f6d6c3f5-4ca2-43c0-aad8-62e601f43517",
   "metadata": {},
   "outputs": [
    {
     "data": {
      "text/plain": [
       "array(['Access to electricity, rural (% of rural population)',\n",
       "       'Access to clean fuels and technologies for cooking (% of population)',\n",
       "       'Access to clean fuels and technologies for cooking, urban (% of urban population)',\n",
       "       'Account ownership at a financial institution or with a mobile-money-service provider (% of population ages 15+)',\n",
       "       'Account ownership at a financial institution or with a mobile-money-service provider, male (% of population ages 15+)',\n",
       "       'Account ownership at a financial institution or with a mobile-money-service provider, poorest 40% (% of population ages 15+)'],\n",
       "      dtype=object)"
      ]
     },
     "execution_count": 38,
     "metadata": {},
     "output_type": "execute_result"
    }
   ],
   "source": [
    "df_final['series_name'].unique()"
   ]
  },
  {
   "cell_type": "markdown",
   "id": "16474130-2c6d-46ec-a1cb-69f6f5486342",
   "metadata": {},
   "source": [
    "#  Step 11: Key Performance Indicators (KPIs)  \n",
    "Now we calculate and explore high-impact development indicators from the World Bank dataset — starting with electricity access."
   ]
  },
  {
   "cell_type": "markdown",
   "id": "38a1c567-4a86-42c0-a356-16a3d9b24b9c",
   "metadata": {},
   "source": [
    "###  KPI 1: Average Global Electricity Access (2006–2022)  \n",
    "This metric shows the overall access to electricity across all countries and years in the dataset."
   ]
  },
  {
   "cell_type": "code",
   "execution_count": 39,
   "id": "45fa901b-0dfd-4963-9678-96f30e0cf256",
   "metadata": {},
   "outputs": [
    {
     "name": "stdout",
     "output_type": "stream",
     "text": [
      "🌍 Average rural electricity access (2006–2022): 78.71%\n"
     ]
    }
   ],
   "source": [
    "# Filter for electricity access series (corrected)\n",
    "elec = df_final[df_final['series_name'] == \"Access to electricity, rural (% of rural population)\"]\n",
    "\n",
    "# Calculate global average\n",
    "avg_elec = elec['value'].mean()\n",
    "print(f\"🌍 Average rural electricity access (2006–2022): {avg_elec:.2f}%\")"
   ]
  },
  {
   "cell_type": "markdown",
   "id": "59c7e696-c43f-4f87-a878-cd4d371a8e1d",
   "metadata": {},
   "source": [
    "###  KPI 2: Countries with Less Than 50% Electricity Access in 2022  \n",
    "This highlights regions where access to electricity is still very limited."
   ]
  },
  {
   "cell_type": "code",
   "execution_count": 40,
   "id": "676ef34c-02c5-415c-84eb-0325858ad0e4",
   "metadata": {},
   "outputs": [
    {
     "data": {
      "text/html": [
       "<div>\n",
       "<style scoped>\n",
       "    .dataframe tbody tr th:only-of-type {\n",
       "        vertical-align: middle;\n",
       "    }\n",
       "\n",
       "    .dataframe tbody tr th {\n",
       "        vertical-align: top;\n",
       "    }\n",
       "\n",
       "    .dataframe thead th {\n",
       "        text-align: right;\n",
       "    }\n",
       "</style>\n",
       "<table border=\"1\" class=\"dataframe\">\n",
       "  <thead>\n",
       "    <tr style=\"text-align: right;\">\n",
       "      <th></th>\n",
       "      <th>country_name</th>\n",
       "      <th>value</th>\n",
       "    </tr>\n",
       "  </thead>\n",
       "  <tbody>\n",
       "    <tr>\n",
       "      <th>5054</th>\n",
       "      <td>Congo, Dem. Rep.</td>\n",
       "      <td>1.000000</td>\n",
       "    </tr>\n",
       "    <tr>\n",
       "      <th>5018</th>\n",
       "      <td>Chad</td>\n",
       "      <td>1.300000</td>\n",
       "    </tr>\n",
       "    <tr>\n",
       "      <th>5150</th>\n",
       "      <td>Equatorial Guinea</td>\n",
       "      <td>1.400000</td>\n",
       "    </tr>\n",
       "    <tr>\n",
       "      <th>5012</th>\n",
       "      <td>Central African Republic</td>\n",
       "      <td>1.600000</td>\n",
       "    </tr>\n",
       "    <tr>\n",
       "      <th>4976</th>\n",
       "      <td>Burundi</td>\n",
       "      <td>1.700000</td>\n",
       "    </tr>\n",
       "    <tr>\n",
       "      <th>5858</th>\n",
       "      <td>South Sudan</td>\n",
       "      <td>1.700000</td>\n",
       "    </tr>\n",
       "    <tr>\n",
       "      <th>4970</th>\n",
       "      <td>Burkina Faso</td>\n",
       "      <td>3.400000</td>\n",
       "    </tr>\n",
       "    <tr>\n",
       "      <th>5810</th>\n",
       "      <td>Sierra Leone</td>\n",
       "      <td>5.000000</td>\n",
       "    </tr>\n",
       "    <tr>\n",
       "      <th>5594</th>\n",
       "      <td>Mozambique</td>\n",
       "      <td>5.000000</td>\n",
       "    </tr>\n",
       "    <tr>\n",
       "      <th>5504</th>\n",
       "      <td>Malawi</td>\n",
       "      <td>5.600000</td>\n",
       "    </tr>\n",
       "    <tr>\n",
       "      <th>5648</th>\n",
       "      <td>Niger</td>\n",
       "      <td>7.700000</td>\n",
       "    </tr>\n",
       "    <tr>\n",
       "      <th>5498</th>\n",
       "      <td>Madagascar</td>\n",
       "      <td>10.900000</td>\n",
       "    </tr>\n",
       "    <tr>\n",
       "      <th>5060</th>\n",
       "      <td>Congo, Rep.</td>\n",
       "      <td>12.400000</td>\n",
       "    </tr>\n",
       "    <tr>\n",
       "      <th>5702</th>\n",
       "      <td>Papua New Guinea</td>\n",
       "      <td>14.200000</td>\n",
       "    </tr>\n",
       "    <tr>\n",
       "      <th>6080</th>\n",
       "      <td>Zambia</td>\n",
       "      <td>14.500000</td>\n",
       "    </tr>\n",
       "    <tr>\n",
       "      <th>5462</th>\n",
       "      <td>Liberia</td>\n",
       "      <td>14.900000</td>\n",
       "    </tr>\n",
       "    <tr>\n",
       "      <th>5282</th>\n",
       "      <td>Guinea-Bissau</td>\n",
       "      <td>15.800000</td>\n",
       "    </tr>\n",
       "    <tr>\n",
       "      <th>5522</th>\n",
       "      <td>Mali</td>\n",
       "      <td>18.300000</td>\n",
       "    </tr>\n",
       "    <tr>\n",
       "      <th>5276</th>\n",
       "      <td>Guinea</td>\n",
       "      <td>21.300000</td>\n",
       "    </tr>\n",
       "    <tr>\n",
       "      <th>4940</th>\n",
       "      <td>Botswana</td>\n",
       "      <td>25.000000</td>\n",
       "    </tr>\n",
       "    <tr>\n",
       "      <th>4994</th>\n",
       "      <td>Cameroon</td>\n",
       "      <td>25.000000</td>\n",
       "    </tr>\n",
       "    <tr>\n",
       "      <th>5954</th>\n",
       "      <td>Togo</td>\n",
       "      <td>25.000000</td>\n",
       "    </tr>\n",
       "    <tr>\n",
       "      <th>6098</th>\n",
       "      <td>Africa Western and Central</td>\n",
       "      <td>25.357267</td>\n",
       "    </tr>\n",
       "    <tr>\n",
       "      <th>5654</th>\n",
       "      <td>Nigeria</td>\n",
       "      <td>27.000000</td>\n",
       "    </tr>\n",
       "    <tr>\n",
       "      <th>5210</th>\n",
       "      <td>Gabon</td>\n",
       "      <td>29.000000</td>\n",
       "    </tr>\n",
       "    <tr>\n",
       "      <th>6332</th>\n",
       "      <td>Pre-demographic dividend</td>\n",
       "      <td>29.384590</td>\n",
       "    </tr>\n",
       "    <tr>\n",
       "      <th>6260</th>\n",
       "      <td>Low income</td>\n",
       "      <td>29.700032</td>\n",
       "    </tr>\n",
       "    <tr>\n",
       "      <th>5846</th>\n",
       "      <td>Somalia</td>\n",
       "      <td>30.640000</td>\n",
       "    </tr>\n",
       "    <tr>\n",
       "      <th>6362</th>\n",
       "      <td>Sub-Saharan Africa (excluding high income)</td>\n",
       "      <td>30.717188</td>\n",
       "    </tr>\n",
       "    <tr>\n",
       "      <th>6356</th>\n",
       "      <td>Sub-Saharan Africa</td>\n",
       "      <td>30.722168</td>\n",
       "    </tr>\n",
       "    <tr>\n",
       "      <th>6368</th>\n",
       "      <td>Sub-Saharan Africa (IDA &amp; IBRD countries)</td>\n",
       "      <td>30.722168</td>\n",
       "    </tr>\n",
       "    <tr>\n",
       "      <th>6182</th>\n",
       "      <td>Heavily indebted poor countries (HIPC)</td>\n",
       "      <td>30.782170</td>\n",
       "    </tr>\n",
       "    <tr>\n",
       "      <th>5216</th>\n",
       "      <td>Gambia, The</td>\n",
       "      <td>31.200000</td>\n",
       "    </tr>\n",
       "    <tr>\n",
       "      <th>5606</th>\n",
       "      <td>Namibia</td>\n",
       "      <td>33.200000</td>\n",
       "    </tr>\n",
       "    <tr>\n",
       "      <th>6086</th>\n",
       "      <td>Zimbabwe</td>\n",
       "      <td>33.700000</td>\n",
       "    </tr>\n",
       "    <tr>\n",
       "      <th>6092</th>\n",
       "      <td>Africa Eastern and Southern</td>\n",
       "      <td>33.760782</td>\n",
       "    </tr>\n",
       "    <tr>\n",
       "      <th>6002</th>\n",
       "      <td>Uganda</td>\n",
       "      <td>35.900000</td>\n",
       "    </tr>\n",
       "    <tr>\n",
       "      <th>5936</th>\n",
       "      <td>Tanzania</td>\n",
       "      <td>36.000000</td>\n",
       "    </tr>\n",
       "    <tr>\n",
       "      <th>5156</th>\n",
       "      <td>Eritrea</td>\n",
       "      <td>36.000000</td>\n",
       "    </tr>\n",
       "    <tr>\n",
       "      <th>6176</th>\n",
       "      <td>Fragile and conflict affected situations</td>\n",
       "      <td>36.029563</td>\n",
       "    </tr>\n",
       "    <tr>\n",
       "      <th>5114</th>\n",
       "      <td>Djibouti</td>\n",
       "      <td>36.600000</td>\n",
       "    </tr>\n",
       "    <tr>\n",
       "      <th>5456</th>\n",
       "      <td>Lesotho</td>\n",
       "      <td>37.700000</td>\n",
       "    </tr>\n",
       "    <tr>\n",
       "      <th>5762</th>\n",
       "      <td>Rwanda</td>\n",
       "      <td>38.200000</td>\n",
       "    </tr>\n",
       "    <tr>\n",
       "      <th>5174</th>\n",
       "      <td>Ethiopia</td>\n",
       "      <td>43.000000</td>\n",
       "    </tr>\n",
       "    <tr>\n",
       "      <th>5792</th>\n",
       "      <td>Senegal</td>\n",
       "      <td>43.400000</td>\n",
       "    </tr>\n",
       "    <tr>\n",
       "      <th>6248</th>\n",
       "      <td>Least developed countries: UN classification</td>\n",
       "      <td>44.987055</td>\n",
       "    </tr>\n",
       "    <tr>\n",
       "      <th>5072</th>\n",
       "      <td>Cote d'Ivoire</td>\n",
       "      <td>45.300000</td>\n",
       "    </tr>\n",
       "    <tr>\n",
       "      <th>4910</th>\n",
       "      <td>Benin</td>\n",
       "      <td>45.500000</td>\n",
       "    </tr>\n",
       "    <tr>\n",
       "      <th>6212</th>\n",
       "      <td>IDA only</td>\n",
       "      <td>48.255552</td>\n",
       "    </tr>\n",
       "    <tr>\n",
       "      <th>5900</th>\n",
       "      <td>Sudan</td>\n",
       "      <td>49.400000</td>\n",
       "    </tr>\n",
       "  </tbody>\n",
       "</table>\n",
       "</div>"
      ],
      "text/plain": [
       "                                      country_name      value\n",
       "5054                              Congo, Dem. Rep.   1.000000\n",
       "5018                                          Chad   1.300000\n",
       "5150                             Equatorial Guinea   1.400000\n",
       "5012                      Central African Republic   1.600000\n",
       "4976                                       Burundi   1.700000\n",
       "5858                                   South Sudan   1.700000\n",
       "4970                                  Burkina Faso   3.400000\n",
       "5810                                  Sierra Leone   5.000000\n",
       "5594                                    Mozambique   5.000000\n",
       "5504                                        Malawi   5.600000\n",
       "5648                                         Niger   7.700000\n",
       "5498                                    Madagascar  10.900000\n",
       "5060                                   Congo, Rep.  12.400000\n",
       "5702                              Papua New Guinea  14.200000\n",
       "6080                                        Zambia  14.500000\n",
       "5462                                       Liberia  14.900000\n",
       "5282                                 Guinea-Bissau  15.800000\n",
       "5522                                          Mali  18.300000\n",
       "5276                                        Guinea  21.300000\n",
       "4940                                      Botswana  25.000000\n",
       "4994                                      Cameroon  25.000000\n",
       "5954                                          Togo  25.000000\n",
       "6098                    Africa Western and Central  25.357267\n",
       "5654                                       Nigeria  27.000000\n",
       "5210                                         Gabon  29.000000\n",
       "6332                      Pre-demographic dividend  29.384590\n",
       "6260                                    Low income  29.700032\n",
       "5846                                       Somalia  30.640000\n",
       "6362    Sub-Saharan Africa (excluding high income)  30.717188\n",
       "6356                            Sub-Saharan Africa  30.722168\n",
       "6368     Sub-Saharan Africa (IDA & IBRD countries)  30.722168\n",
       "6182        Heavily indebted poor countries (HIPC)  30.782170\n",
       "5216                                   Gambia, The  31.200000\n",
       "5606                                       Namibia  33.200000\n",
       "6086                                      Zimbabwe  33.700000\n",
       "6092                   Africa Eastern and Southern  33.760782\n",
       "6002                                        Uganda  35.900000\n",
       "5936                                      Tanzania  36.000000\n",
       "5156                                       Eritrea  36.000000\n",
       "6176      Fragile and conflict affected situations  36.029563\n",
       "5114                                      Djibouti  36.600000\n",
       "5456                                       Lesotho  37.700000\n",
       "5762                                        Rwanda  38.200000\n",
       "5174                                      Ethiopia  43.000000\n",
       "5792                                       Senegal  43.400000\n",
       "6248  Least developed countries: UN classification  44.987055\n",
       "5072                                 Cote d'Ivoire  45.300000\n",
       "4910                                         Benin  45.500000\n",
       "6212                                      IDA only  48.255552\n",
       "5900                                         Sudan  49.400000"
      ]
     },
     "execution_count": 40,
     "metadata": {},
     "output_type": "execute_result"
    }
   ],
   "source": [
    "# Filter 2022 rural electricity access data\n",
    "low_access_2022 = elec[elec['year'].dt.year == 2022]\n",
    "low_access_2022 = low_access_2022[low_access_2022['value'] < 50]\n",
    "\n",
    "# Display countries below 50%\n",
    "low_access_2022[['country_name', 'value']].sort_values(by='value')"
   ]
  },
  {
   "cell_type": "markdown",
   "id": "9afa4b92-7acb-4af5-9d4d-9f2cc7074785",
   "metadata": {},
   "source": [
    "###  KPI 3: Percentage Improvement in Electricity Access (2006 to 2022)  \n",
    "This compares each country's access to electricity in 2006 vs. 2022 to show progress."
   ]
  },
  {
   "cell_type": "code",
   "execution_count": 41,
   "id": "1853a06d-e2ef-4016-896a-ebbf53401e6f",
   "metadata": {},
   "outputs": [
    {
     "data": {
      "text/html": [
       "<div>\n",
       "<style scoped>\n",
       "    .dataframe tbody tr th:only-of-type {\n",
       "        vertical-align: middle;\n",
       "    }\n",
       "\n",
       "    .dataframe tbody tr th {\n",
       "        vertical-align: top;\n",
       "    }\n",
       "\n",
       "    .dataframe thead th {\n",
       "        text-align: right;\n",
       "    }\n",
       "</style>\n",
       "<table border=\"1\" class=\"dataframe\">\n",
       "  <thead>\n",
       "    <tr style=\"text-align: right;\">\n",
       "      <th></th>\n",
       "      <th>access_2006</th>\n",
       "      <th>access_2022</th>\n",
       "      <th>%_improvement</th>\n",
       "    </tr>\n",
       "    <tr>\n",
       "      <th>country_name</th>\n",
       "      <th></th>\n",
       "      <th></th>\n",
       "      <th></th>\n",
       "    </tr>\n",
       "  </thead>\n",
       "  <tbody>\n",
       "    <tr>\n",
       "      <th>Timor-Leste</th>\n",
       "      <td>21.4</td>\n",
       "      <td>100.0</td>\n",
       "      <td>78.6</td>\n",
       "    </tr>\n",
       "    <tr>\n",
       "      <th>Cambodia</th>\n",
       "      <td>16.1</td>\n",
       "      <td>88.0</td>\n",
       "      <td>71.9</td>\n",
       "    </tr>\n",
       "    <tr>\n",
       "      <th>Solomon Islands</th>\n",
       "      <td>3.9</td>\n",
       "      <td>75.4</td>\n",
       "      <td>71.5</td>\n",
       "    </tr>\n",
       "    <tr>\n",
       "      <th>Afghanistan</th>\n",
       "      <td>19.3</td>\n",
       "      <td>81.7</td>\n",
       "      <td>62.4</td>\n",
       "    </tr>\n",
       "    <tr>\n",
       "      <th>Bangladesh</th>\n",
       "      <td>40.2</td>\n",
       "      <td>99.3</td>\n",
       "      <td>59.1</td>\n",
       "    </tr>\n",
       "    <tr>\n",
       "      <th>Mongolia</th>\n",
       "      <td>41.5</td>\n",
       "      <td>100.0</td>\n",
       "      <td>58.5</td>\n",
       "    </tr>\n",
       "    <tr>\n",
       "      <th>Bhutan</th>\n",
       "      <td>42.0</td>\n",
       "      <td>100.0</td>\n",
       "      <td>58.0</td>\n",
       "    </tr>\n",
       "    <tr>\n",
       "      <th>Marshall Islands</th>\n",
       "      <td>42.5</td>\n",
       "      <td>100.0</td>\n",
       "      <td>57.5</td>\n",
       "    </tr>\n",
       "    <tr>\n",
       "      <th>Lao PDR</th>\n",
       "      <td>42.8</td>\n",
       "      <td>100.0</td>\n",
       "      <td>57.2</td>\n",
       "    </tr>\n",
       "    <tr>\n",
       "      <th>Eswatini</th>\n",
       "      <td>27.3</td>\n",
       "      <td>81.6</td>\n",
       "      <td>54.3</td>\n",
       "    </tr>\n",
       "  </tbody>\n",
       "</table>\n",
       "</div>"
      ],
      "text/plain": [
       "                  access_2006  access_2022  %_improvement\n",
       "country_name                                             \n",
       "Timor-Leste              21.4        100.0           78.6\n",
       "Cambodia                 16.1         88.0           71.9\n",
       "Solomon Islands           3.9         75.4           71.5\n",
       "Afghanistan              19.3         81.7           62.4\n",
       "Bangladesh               40.2         99.3           59.1\n",
       "Mongolia                 41.5        100.0           58.5\n",
       "Bhutan                   42.0        100.0           58.0\n",
       "Marshall Islands         42.5        100.0           57.5\n",
       "Lao PDR                  42.8        100.0           57.2\n",
       "Eswatini                 27.3         81.6           54.3"
      ]
     },
     "execution_count": 41,
     "metadata": {},
     "output_type": "execute_result"
    }
   ],
   "source": [
    "# Filter for 2006 and 2022 data\n",
    "elec_2006 = elec[elec['year'].dt.year == 2006].set_index('country_name')\n",
    "elec_2022 = elec[elec['year'].dt.year == 2022].set_index('country_name')\n",
    "\n",
    "# Join 2006 and 2022 on country\n",
    "elec_compare = elec_2006[['value']].rename(columns={'value': 'access_2006'}).join(\n",
    "    elec_2022[['value']].rename(columns={'value': 'access_2022'}),\n",
    "    how='inner'\n",
    ")\n",
    "\n",
    "# Calculate % improvement\n",
    "elec_compare['%_improvement'] = elec_compare['access_2022'] - elec_compare['access_2006']\n",
    "elec_compare.sort_values('%_improvement', ascending=False).head(10)"
   ]
  },
  {
   "cell_type": "code",
   "execution_count": null,
   "id": "3d1a8029-516d-49a8-ba95-dd20bfb55d11",
   "metadata": {},
   "outputs": [],
   "source": []
  }
 ],
 "metadata": {
  "kernelspec": {
   "display_name": "Python 3 (ipykernel)",
   "language": "python",
   "name": "python3"
  },
  "language_info": {
   "codemirror_mode": {
    "name": "ipython",
    "version": 3
   },
   "file_extension": ".py",
   "mimetype": "text/x-python",
   "name": "python",
   "nbconvert_exporter": "python",
   "pygments_lexer": "ipython3",
   "version": "3.13.2"
  }
 },
 "nbformat": 4,
 "nbformat_minor": 5
}
